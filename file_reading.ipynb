{
 "cells": [
  {
   "cell_type": "code",
   "execution_count": 7,
   "id": "6380ec0a",
   "metadata": {},
   "outputs": [],
   "source": [
    "#fd=file descrypter\n",
    "fd  = open('test1.txt','r')\n",
    "text=fd.read()\n",
    "\n",
    "fd.close()"
   ]
  },
  {
   "cell_type": "code",
   "execution_count": 11,
   "id": "4453e4e5",
   "metadata": {},
   "outputs": [
    {
     "data": {
      "text/plain": [
       "'Hello World,with a great pleasure\\nPython is a high-level, general-purpose programming language. Its design philosophy emphasizes code readability with the use of significant indentation via the off-side rule.\\n\\nPython is dynamically typed and garbage-collected. It supports multiple programming paradigms, including structured (particularly procedural), object-oriented and functional programming. It is often described as a \"batteries included\" language due to its comprehensive standard library.\\n\\nGuido van Rossum began working on Python in the late 1980s as a successor to the ABC programming language and first released it in 1991 as Python 0.9.0.[37] Python 2.0 was released in 2000. Python 3.0, released in 2008, was a major revision not completely backward-compatible with earlier versions. Python 2.7.18, released in 2020, was the last release of Python 2.'"
      ]
     },
     "execution_count": 11,
     "metadata": {},
     "output_type": "execute_result"
    }
   ],
   "source": [
    "#we saw how to read a line ,if we have a whole file Corpse/paragraph\n",
    "text"
   ]
  },
  {
   "cell_type": "code",
   "execution_count": 9,
   "id": "f2bf2e8a",
   "metadata": {},
   "outputs": [
    {
     "name": "stdout",
     "output_type": "stream",
     "text": [
      "Hello World,with a great pleasure\n",
      "Python is a high-level, general-purpose programming language. Its design philosophy emphasizes code readability with the use of significant indentation via the off-side rule.\n",
      "\n",
      "Python is dynamically typed and garbage-collected. It supports multiple programming paradigms, including structured (particularly procedural), object-oriented and functional programming. It is often described as a \"batteries included\" language due to its comprehensive standard library.\n",
      "\n",
      "Guido van Rossum began working on Python in the late 1980s as a successor to the ABC programming language and first released it in 1991 as Python 0.9.0.[37] Python 2.0 was released in 2000. Python 3.0, released in 2008, was a major revision not completely backward-compatible with earlier versions. Python 2.7.18, released in 2020, was the last release of Python 2.\n"
     ]
    }
   ],
   "source": [
    "print(text)"
   ]
  },
  {
   "cell_type": "code",
   "execution_count": 16,
   "id": "723b1fb7",
   "metadata": {},
   "outputs": [],
   "source": [
    "list = (text.split('\\n\\n'))"
   ]
  },
  {
   "cell_type": "code",
   "execution_count": 17,
   "id": "e92f6349",
   "metadata": {},
   "outputs": [
    {
     "data": {
      "text/plain": [
       "['Hello World,with a great pleasure\\nPython is a high-level, general-purpose programming language. Its design philosophy emphasizes code readability with the use of significant indentation via the off-side rule.',\n",
       " 'Python is dynamically typed and garbage-collected. It supports multiple programming paradigms, including structured (particularly procedural), object-oriented and functional programming. It is often described as a \"batteries included\" language due to its comprehensive standard library.',\n",
       " 'Guido van Rossum began working on Python in the late 1980s as a successor to the ABC programming language and first released it in 1991 as Python 0.9.0.[37] Python 2.0 was released in 2000. Python 3.0, released in 2008, was a major revision not completely backward-compatible with earlier versions. Python 2.7.18, released in 2020, was the last release of Python 2.']"
      ]
     },
     "execution_count": 17,
     "metadata": {},
     "output_type": "execute_result"
    }
   ],
   "source": [
    "list"
   ]
  },
  {
   "cell_type": "code",
   "execution_count": 18,
   "id": "e73d070b",
   "metadata": {},
   "outputs": [
    {
     "data": {
      "text/plain": [
       "3"
      ]
     },
     "execution_count": 18,
     "metadata": {},
     "output_type": "execute_result"
    }
   ],
   "source": [
    "len(list)"
   ]
  },
  {
   "cell_type": "code",
   "execution_count": 19,
   "id": "9f147c96",
   "metadata": {},
   "outputs": [],
   "source": [
    "lines = text.split('.')"
   ]
  },
  {
   "cell_type": "code",
   "execution_count": 20,
   "id": "5cddc68d",
   "metadata": {},
   "outputs": [
    {
     "data": {
      "text/plain": [
       "['Hello World,with a great pleasure\\nPython is a high-level, general-purpose programming language',\n",
       " ' Its design philosophy emphasizes code readability with the use of significant indentation via the off-side rule',\n",
       " '\\n\\nPython is dynamically typed and garbage-collected',\n",
       " ' It supports multiple programming paradigms, including structured (particularly procedural), object-oriented and functional programming',\n",
       " ' It is often described as a \"batteries included\" language due to its comprehensive standard library',\n",
       " '\\n\\nGuido van Rossum began working on Python in the late 1980s as a successor to the ABC programming language and first released it in 1991 as Python 0',\n",
       " '9',\n",
       " '0',\n",
       " '[37] Python 2',\n",
       " '0 was released in 2000',\n",
       " ' Python 3',\n",
       " '0, released in 2008, was a major revision not completely backward-compatible with earlier versions',\n",
       " ' Python 2',\n",
       " '7',\n",
       " '18, released in 2020, was the last release of Python 2',\n",
       " '']"
      ]
     },
     "execution_count": 20,
     "metadata": {},
     "output_type": "execute_result"
    }
   ],
   "source": [
    "lines"
   ]
  },
  {
   "cell_type": "code",
   "execution_count": 21,
   "id": "954ce0b5",
   "metadata": {},
   "outputs": [
    {
     "data": {
      "text/plain": [
       "['Hello World,with a great pleasure\\nPython is a high-level, general-purpose programming language',\n",
       " ' Its design philosophy emphasizes code readability with the use of significant indentation via the off-side rule',\n",
       " '\\n\\nPython is dynamically typed and garbage-collected',\n",
       " ' It supports multiple programming paradigms, including structured (particularly procedural), object-oriented and functional programming',\n",
       " ' It is often described as a \"batteries included\" language due to its comprehensive standard library',\n",
       " '\\n\\nGuido van Rossum began working on Python in the late 1980s as a successor to the ABC programming language and first released it in 1991 as Python 0',\n",
       " '9',\n",
       " '0',\n",
       " '[37] Python 2',\n",
       " '0 was released in 2000',\n",
       " ' Python 3',\n",
       " '0, released in 2008, was a major revision not completely backward-compatible with earlier versions',\n",
       " ' Python 2',\n",
       " '7',\n",
       " '18, released in 2020, was the last release of Python 2']"
      ]
     },
     "execution_count": 21,
     "metadata": {},
     "output_type": "execute_result"
    }
   ],
   "source": [
    "lines[:-1]"
   ]
  },
  {
   "cell_type": "code",
   "execution_count": 23,
   "id": "d0436c3b",
   "metadata": {},
   "outputs": [
    {
     "data": {
      "text/plain": [
       "15"
      ]
     },
     "execution_count": 23,
     "metadata": {},
     "output_type": "execute_result"
    }
   ],
   "source": [
    "len(lines[:-1])"
   ]
  },
  {
   "cell_type": "code",
   "execution_count": 25,
   "id": "2a48391e",
   "metadata": {},
   "outputs": [
    {
     "data": {
      "text/plain": [
       "120"
      ]
     },
     "execution_count": 25,
     "metadata": {},
     "output_type": "execute_result"
    }
   ],
   "source": [
    "len(text.split(' '))"
   ]
  },
  {
   "cell_type": "code",
   "execution_count": 30,
   "id": "b59141f5",
   "metadata": {},
   "outputs": [],
   "source": [
    "for i in range(0,38):\n",
    "    pattern = '['+str(i)+']'\n",
    "    text=text.replace(pattern,'')"
   ]
  },
  {
   "cell_type": "code",
   "execution_count": 31,
   "id": "ef988635",
   "metadata": {},
   "outputs": [
    {
     "data": {
      "text/plain": [
       "'Hello World,with a great pleasure\\nPython is a high-level, general-purpose programming language. Its design philosophy emphasizes code readability with the use of significant indentation via the off-side rule.\\n\\nPython is dynamically typed and garbage-collected. It supports multiple programming paradigms, including structured (particularly procedural), object-oriented and functional programming. It is often described as a \"batteries included\" language due to its comprehensive standard library.\\n\\nGuido van Rossum began working on Python in the late 1980s as a successor to the ABC programming language and first released it in 1991 as Python 0.9.0. Python 2.0 was released in 2000. Python 3.0, released in 2008, was a major revision not completely backward-compatible with earlier versions. Python 2.7.18, released in 2020, was the last release of Python 2.'"
      ]
     },
     "execution_count": 31,
     "metadata": {},
     "output_type": "execute_result"
    }
   ],
   "source": [
    "text"
   ]
  },
  {
   "cell_type": "code",
   "execution_count": 32,
   "id": "34624c01",
   "metadata": {},
   "outputs": [
    {
     "name": "stdout",
     "output_type": "stream",
     "text": [
      "Hello World,with a great pleasure\n",
      "Python is a high-level, general-purpose programming language. Its design philosophy emphasizes code readability with the use of significant indentation via the off-side rule.\n",
      "\n",
      "Python is dynamically typed and garbage-collected. It supports multiple programming paradigms, including structured (particularly procedural), object-oriented and functional programming. It is often described as a \"batteries included\" language due to its comprehensive standard library.\n",
      "\n",
      "Guido van Rossum began working on Python in the late 1980s as a successor to the ABC programming language and first released it in 1991 as Python 0.9.0. Python 2.0 was released in 2000. Python 3.0, released in 2008, was a major revision not completely backward-compatible with earlier versions. Python 2.7.18, released in 2020, was the last release of Python 2.\n"
     ]
    }
   ],
   "source": [
    "print(text)"
   ]
  },
  {
   "cell_type": "code",
   "execution_count": 36,
   "id": "b01e19b6",
   "metadata": {},
   "outputs": [],
   "source": [
    "fd = open('Data.txt','w')\n",
    "fd.write('welcome to gfg')\n",
    "\n",
    "fd.close()"
   ]
  },
  {
   "cell_type": "code",
   "execution_count": 37,
   "id": "f61a628e",
   "metadata": {},
   "outputs": [],
   "source": [
    "fd = open('Data.txt','a')\n",
    "fd.write('welcome to gfg2')\n",
    "\n",
    "fd.close()"
   ]
  },
  {
   "cell_type": "code",
   "execution_count": 44,
   "id": "83ba2560",
   "metadata": {},
   "outputs": [
    {
     "name": "stdout",
     "output_type": "stream",
     "text": [
      "Enter the text here:hello brother\n"
     ]
    }
   ],
   "source": [
    "fd=open('data3.txt','a')\n",
    "txt=input(\"Enter the text here:\")\n",
    "fd.write(txt+'.\\n')\n",
    "fd.close()"
   ]
  },
  {
   "cell_type": "code",
   "execution_count": null,
   "id": "ab3bbe9d",
   "metadata": {},
   "outputs": [],
   "source": []
  }
 ],
 "metadata": {
  "kernelspec": {
   "display_name": "Python 3 (ipykernel)",
   "language": "python",
   "name": "python3"
  },
  "language_info": {
   "codemirror_mode": {
    "name": "ipython",
    "version": 3
   },
   "file_extension": ".py",
   "mimetype": "text/x-python",
   "name": "python",
   "nbconvert_exporter": "python",
   "pygments_lexer": "ipython3",
   "version": "3.10.9"
  }
 },
 "nbformat": 4,
 "nbformat_minor": 5
}
