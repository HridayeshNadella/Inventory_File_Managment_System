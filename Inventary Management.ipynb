{
 "cells": [
  {
   "cell_type": "code",
   "execution_count": 2,
   "id": "446bd655",
   "metadata": {},
   "outputs": [],
   "source": [
    "fd=open('Inventory.txt','w')\n",
    "fd.close()"
   ]
  },
  {
   "cell_type": "markdown",
   "id": "a5bc576c",
   "metadata": {},
   "source": [
    "## product details\n",
    "1.prodect id\n",
    "2.Name of product\n",
    "3.price of product\n",
    "4.quality\n",
    "5.categery"
   ]
  },
  {
   "cell_type": "code",
   "execution_count": 1,
   "id": "914d1ded",
   "metadata": {},
   "outputs": [
    {
     "name": "stdout",
     "output_type": "stream",
     "text": [
      "['1,5 star,5,10', '2,Milky bar,5,100', '3,Cake,300,5', '4,Candy,1,200']\n"
     ]
    }
   ],
   "source": [
    "fd=open('Inventory.txt','r')\n",
    "products=fd.read().split('\\n')\n",
    "print(products)"
   ]
  },
  {
   "cell_type": "code",
   "execution_count": null,
   "id": "e0b03fe1",
   "metadata": {},
   "outputs": [],
   "source": []
  },
  {
   "cell_type": "code",
   "execution_count": null,
   "id": "6fadb0e4",
   "metadata": {},
   "outputs": [],
   "source": []
  },
  {
   "cell_type": "code",
   "execution_count": 2,
   "id": "51332c31",
   "metadata": {},
   "outputs": [
    {
     "data": {
      "text/plain": [
       "['1,5 star,5,10', '2,Milky bar,5,100', '3,Cake,300,5', '4,Candy,1,200']"
      ]
     },
     "execution_count": 2,
     "metadata": {},
     "output_type": "execute_result"
    }
   ],
   "source": [
    "products"
   ]
  },
  {
   "cell_type": "code",
   "execution_count": 3,
   "id": "46dd927b",
   "metadata": {},
   "outputs": [
    {
     "data": {
      "text/plain": [
       "4"
      ]
     },
     "execution_count": 3,
     "metadata": {},
     "output_type": "execute_result"
    }
   ],
   "source": [
    "len(products)"
   ]
  },
  {
   "cell_type": "code",
   "execution_count": 4,
   "id": "ee1e6077",
   "metadata": {},
   "outputs": [
    {
     "name": "stdout",
     "output_type": "stream",
     "text": [
      "1,5 star,5,10\n",
      "2,Milky bar,5,100\n",
      "3,Cake,300,5\n",
      "4,Candy,1,200\n"
     ]
    }
   ],
   "source": [
    "for product in products:\n",
    "    print(product)"
   ]
  },
  {
   "cell_type": "code",
   "execution_count": 21,
   "id": "3f908a27",
   "metadata": {},
   "outputs": [
    {
     "name": "stdout",
     "output_type": "stream",
     "text": [
      "['1,5 star,5,0', '2,Milky bar,5,0', '3,Cake,300,1', '4,Candy,1,75']\n",
      "Enter ur username: Dobby\n",
      "Enter ur phone number: 1111\n",
      "Enter ur mail id: freeelf@gmail.com\n",
      "Enter Product id: 3\n",
      "Enter Product quantity: 2\n",
      "----------------------------------------------------\n",
      "Exceeding quantitiy\n",
      "Do,u want to purchase all the products that are left(Y/N)Y\n",
      "bill :  300\n"
     ]
    }
   ],
   "source": [
    "import time\n",
    "fd=open('Inventory.txt','r')\n",
    "products=fd.read().split('\\n')\n",
    "print(products)\n",
    "fd.close()\n",
    "ui_username=input(\"Enter ur username: \")\n",
    "ui_phone_no=input(\"Enter ur phone number: \")\n",
    "ui_mailid=input(\"Enter ur mail id: \")\n",
    "ui_product_id = int(input(\"Enter Product id: \"))\n",
    "ui_product_qn = int(input(\"Enter Product quantity: \"))\n",
    "print(\"----------------------------------------------------\")\n",
    "updatedlist = []\n",
    "for product in products:\n",
    "    c=product.split(',')\n",
    "    if ui_product_id==int(c[0]):\n",
    "        if ui_product_qn<=int(c[3]):\n",
    "            c[3] = str(int(c[3]) - ui_product_qn)\n",
    "            print('bill  :',(ui_product_qn*int(c[2])))\n",
    "            fd=open('Sales.txt','a')\n",
    "            sales_details=ui_username + \",\" + ui_phone_no + \",\" + ui_mailid + \",\" + str(ui_product_id) + \",\" + str(ui_product_qn) +\",\"+ str(ui_product_qn*int(c[2]))+\",\"+time.ctime()+ \"\\n\"\n",
    "            fd.write(sales_details)\n",
    "            fd.close()\n",
    "        else:\n",
    "            print(\"Exceeding quantitiy\")\n",
    "            choice=input(\"Do,u want to purchase all the products that are left(Y/N)\")\n",
    "            if(choice=='Y'):\n",
    "                print('bill : ',int(c[3])*int(c[2]))\n",
    "                \n",
    "                fd=open('Sales.txt','a')\n",
    "                sales_details=ui_username + \",\" + ui_phone_no + \",\" + ui_mailid + \",\" + str(ui_product_id) + \",\" + c[3] +\",\"+ str(int(c[3])*int(c[2]))+\",\"+time.ctime()+ \"\\n\"\n",
    "                fd.write(sales_details)\n",
    "                fd.close()\n",
    "                c[3]='0';\n",
    "            else:\n",
    "                print(thanks)\n",
    "    \n",
    "    updatedlist.append(c)\n",
    "\n",
    "st=[]\n",
    "for i in updatedlist:\n",
    "    st.append(i[0]+','+i[1]+','+ i[2] +','+ i[3]+'\\n')\n",
    "st[-1] =st[-1][:-1]\n",
    "fd = open('Inventory.txt','w')\n",
    "for i in st:\n",
    "    fd.write(i)\n",
    "    \n",
    "fd.close()            \n",
    "        \n",
    "   \n",
    "        "
   ]
  },
  {
   "cell_type": "code",
   "execution_count": 6,
   "id": "7ba274d7",
   "metadata": {},
   "outputs": [
    {
     "name": "stdout",
     "output_type": "stream",
     "text": [
      "1,5 star,5,10\n",
      "2,Milky bar,5,100\n",
      "3,Cake,300,5\n",
      "4,Candy,1,200\n"
     ]
    }
   ],
   "source": [
    "for i in products:\n",
    "    print(i)"
   ]
  },
  {
   "cell_type": "code",
   "execution_count": 35,
   "id": "645de463",
   "metadata": {},
   "outputs": [
    {
     "name": "stdout",
     "output_type": "stream",
     "text": [
      "1,5 star,5,80\n",
      "2,Milky bar,5,100\n",
      "3,Cake,300,5\n",
      "4,Candy,1,200\n"
     ]
    }
   ],
   "source": [
    "for i in updatedlist:\n",
    "    pro =(i[0]+','+i[1]+','+ i[2] +','+ i[3])"
   ]
  },
  {
   "cell_type": "code",
   "execution_count": 46,
   "id": "a493b606",
   "metadata": {},
   "outputs": [],
   "source": [
    "fd = open('Inventory.txt','w')\n",
    "for i in updatedlist:\n",
    "    pro =(i[0]+','+i[1]+','+ i[2] +','+ i[3])\n",
    "    fd.write(pro)\n",
    "fd.close()"
   ]
  },
  {
   "cell_type": "code",
   "execution_count": 75,
   "id": "d57854fd",
   "metadata": {},
   "outputs": [
    {
     "data": {
      "text/plain": [
       "['1,5 star,5,10\\n', '2,Milky bar,5,100\\n', '3,Cake,300,5\\n', '4,Candy,1,200']"
      ]
     },
     "execution_count": 75,
     "metadata": {},
     "output_type": "execute_result"
    }
   ],
   "source": [
    "st=[]\n",
    "for i in updatedlist:\n",
    "    st.append(i[0]+','+i[1]+','+ i[2] +','+ i[3]+'\\n')\n",
    "st[-1] =st[-1][:-1]\n",
    "st"
   ]
  },
  {
   "cell_type": "code",
   "execution_count": null,
   "id": "ae569ab6",
   "metadata": {},
   "outputs": [],
   "source": []
  }
 ],
 "metadata": {
  "kernelspec": {
   "display_name": "Python 3 (ipykernel)",
   "language": "python",
   "name": "python3"
  },
  "language_info": {
   "codemirror_mode": {
    "name": "ipython",
    "version": 3
   },
   "file_extension": ".py",
   "mimetype": "text/x-python",
   "name": "python",
   "nbconvert_exporter": "python",
   "pygments_lexer": "ipython3",
   "version": "3.10.9"
  }
 },
 "nbformat": 4,
 "nbformat_minor": 5
}
